{
 "cells": [
  {
   "attachments": {},
   "cell_type": "markdown",
   "metadata": {},
   "source": [
    "# Acript to make taptest measurements into channel position metadata."
   ]
  },
  {
   "cell_type": "code",
   "execution_count": 1,
   "metadata": {},
   "outputs": [],
   "source": [
    "%matplotlib inline\n",
    "import os\n",
    "import h5py\n",
    "import numpy as np\n",
    "import matplotlib.pyplot as plt\n",
    "import pandas as pd\n",
    "from scipy.signal import detrend\n",
    "from obspy.signal.filter import bandpass as bp\n",
    "from obspy import UTCDateTime\n",
    "import dascore as dc\n",
    "import pyproj"
   ]
  },
  {
   "attachments": {},
   "cell_type": "markdown",
   "metadata": {},
   "source": [
    "## get file information"
   ]
  },
  {
   "cell_type": "code",
   "execution_count": null,
   "metadata": {},
   "outputs": [],
   "source": [
    "def get_tstamp(fname):\n",
    "    datestr = fname.split('_')[1].split('-')\n",
    "    y = int(datestr[0])\n",
    "    m = int(datestr[1])\n",
    "    d = int(datestr[2])\n",
    "    timestr = fname.split('_')[2].split('.')\n",
    "    H = int(timestr[0])\n",
    "    M = int(timestr[1])\n",
    "    S = int(timestr[2])\n",
    "    return UTCDateTime('%04d-%02d-%02dT%02d:%02d:%02d' % (y,m,d,H,M,S))\n",
    "\n",
    "fdir = '/Volumes/PeatDAS/harper_test_data'\n",
    "flist = np.array(os.listdir(fdir))\n",
    "ftime = np.array([get_tstamp(fname) for fname in flist])\n",
    "index = np.argsort(np.array(ftime)-ftime[0])\n",
    "flist = flist[index]\n",
    "ftime = ftime[index]"
   ]
  },
  {
   "attachments": {},
   "cell_type": "markdown",
   "metadata": {},
   "source": [
    "## Get acquisition parameters"
   ]
  },
  {
   "cell_type": "code",
   "execution_count": null,
   "metadata": {},
   "outputs": [],
   "source": [
    "fname = flist[0]\n",
    "with h5py.File(os.path.join(fdir,fname),'r') as fp:\n",
    "    GL = fp['Acquisition'].attrs['GaugeLength']\n",
    "    dx = fp['Acquisition'].attrs['SpatialSamplingInterval']\n",
    "    fs = fp['Acquisition']['Raw[0]'].attrs['OutputDataRate']\n",
    "    nx = fp['Acquisition']['Raw[0]'].attrs['NumberOfLoci']\n",
    "    ns = len(fp['Acquisition']['Raw[0]']['RawDataTime'][:])\n",
    "    #data = fp['Acquisition']['Raw[0]']['RawData'][:]\n",
    "    print(fname)\n",
    "    print('Gauge length (m):',GL)\n",
    "    print('Channel spacing (m):',dx)\n",
    "    print('Sampling rate (Hz):',fs)\n",
    "    print('Num channels:',nx)\n",
    "    print('Num samples:',ns)"
   ]
  },
  {
   "attachments": {},
   "cell_type": "markdown",
   "metadata": {},
   "source": [
    "# Convert corners and tap-test files into usable metadata\n",
    "\n",
    "This script will create a metadata CSV file with the following attributes:\n",
    "    chanID, longitude, latitude, elevation, easting, northing"
   ]
  },
  {
   "cell_type": "code",
   "execution_count": 4,
   "metadata": {},
   "outputs": [
    {
     "data": {
      "text/html": [
       "<div>\n",
       "<style scoped>\n",
       "    .dataframe tbody tr th:only-of-type {\n",
       "        vertical-align: middle;\n",
       "    }\n",
       "\n",
       "    .dataframe tbody tr th {\n",
       "        vertical-align: top;\n",
       "    }\n",
       "\n",
       "    .dataframe thead th {\n",
       "        text-align: right;\n",
       "    }\n",
       "</style>\n",
       "<table border=\"1\" class=\"dataframe\">\n",
       "  <thead>\n",
       "    <tr style=\"text-align: right;\">\n",
       "      <th></th>\n",
       "      <th>time</th>\n",
       "      <th>name</th>\n",
       "      <th>longitude</th>\n",
       "      <th>latitude</th>\n",
       "      <th>elevation</th>\n",
       "    </tr>\n",
       "  </thead>\n",
       "  <tbody>\n",
       "    <tr>\n",
       "      <th>0</th>\n",
       "      <td>2023-03-16T15:58:01</td>\n",
       "      <td>0</td>\n",
       "      <td>-2.605449</td>\n",
       "      <td>52.916499</td>\n",
       "      <td>104.155931</td>\n",
       "    </tr>\n",
       "    <tr>\n",
       "      <th>1</th>\n",
       "      <td>2023-03-16T15:58:12</td>\n",
       "      <td>1</td>\n",
       "      <td>-2.605495</td>\n",
       "      <td>52.916499</td>\n",
       "      <td>104.149541</td>\n",
       "    </tr>\n",
       "    <tr>\n",
       "      <th>2</th>\n",
       "      <td>2023-03-16T16:01:32</td>\n",
       "      <td>2</td>\n",
       "      <td>-2.608302</td>\n",
       "      <td>52.915618</td>\n",
       "      <td>97.887184</td>\n",
       "    </tr>\n",
       "    <tr>\n",
       "      <th>3</th>\n",
       "      <td>2023-03-16T16:01:49</td>\n",
       "      <td>3</td>\n",
       "      <td>-2.608213</td>\n",
       "      <td>52.915503</td>\n",
       "      <td>97.993868</td>\n",
       "    </tr>\n",
       "    <tr>\n",
       "      <th>4</th>\n",
       "      <td>2023-03-16T16:02:46</td>\n",
       "      <td>4</td>\n",
       "      <td>-2.607865</td>\n",
       "      <td>52.915749</td>\n",
       "      <td>99.280637</td>\n",
       "    </tr>\n",
       "  </tbody>\n",
       "</table>\n",
       "</div>"
      ],
      "text/plain": [
       "                  time  name  longitude   latitude   elevation\n",
       "0  2023-03-16T15:58:01     0  -2.605449  52.916499  104.155931\n",
       "1  2023-03-16T15:58:12     1  -2.605495  52.916499  104.149541\n",
       "2  2023-03-16T16:01:32     2  -2.608302  52.915618   97.887184\n",
       "3  2023-03-16T16:01:49     3  -2.608213  52.915503   97.993868\n",
       "4  2023-03-16T16:02:46     4  -2.607865  52.915749   99.280637"
      ]
     },
     "execution_count": 4,
     "metadata": {},
     "output_type": "execute_result"
    }
   ],
   "source": [
    "df = pd.read_csv(\"corners-joesfield_final_gps.csv\")\n",
    "df.head()"
   ]
  },
  {
   "attachments": {},
   "cell_type": "markdown",
   "metadata": {},
   "source": [
    "first convert the lat long into NE"
   ]
  },
  {
   "cell_type": "code",
   "execution_count": 19,
   "metadata": {},
   "outputs": [
    {
     "name": "stdout",
     "output_type": "stream",
     "text": [
      "[929723.67041316 929720.584497   929540.91893111 929548.07302359\n",
      " 929568.94206158 929573.98669892 929578.78457273 929620.02162467\n",
      " 929609.59900266 929621.12865417 929656.4149598  929645.87966985\n",
      " 929658.06742822 929697.052059   929687.42993799 929698.36127268\n",
      " 929732.00628519 929728.21799463]\n"
     ]
    },
    {
     "data": {
      "text/html": [
       "<div>\n",
       "<style scoped>\n",
       "    .dataframe tbody tr th:only-of-type {\n",
       "        vertical-align: middle;\n",
       "    }\n",
       "\n",
       "    .dataframe tbody tr th {\n",
       "        vertical-align: top;\n",
       "    }\n",
       "\n",
       "    .dataframe thead th {\n",
       "        text-align: right;\n",
       "    }\n",
       "</style>\n",
       "<table border=\"1\" class=\"dataframe\">\n",
       "  <thead>\n",
       "    <tr style=\"text-align: right;\">\n",
       "      <th></th>\n",
       "      <th>time</th>\n",
       "      <th>name</th>\n",
       "      <th>longitude</th>\n",
       "      <th>latitude</th>\n",
       "      <th>elevation</th>\n",
       "      <th>easting</th>\n",
       "      <th>northing</th>\n",
       "    </tr>\n",
       "  </thead>\n",
       "  <tbody>\n",
       "    <tr>\n",
       "      <th>0</th>\n",
       "      <td>2023-03-16T15:58:01</td>\n",
       "      <td>0</td>\n",
       "      <td>-2.605449</td>\n",
       "      <td>52.916499</td>\n",
       "      <td>104.155931</td>\n",
       "      <td>929723.670413</td>\n",
       "      <td>5.882146e+06</td>\n",
       "    </tr>\n",
       "    <tr>\n",
       "      <th>1</th>\n",
       "      <td>2023-03-16T15:58:12</td>\n",
       "      <td>1</td>\n",
       "      <td>-2.605495</td>\n",
       "      <td>52.916499</td>\n",
       "      <td>104.149541</td>\n",
       "      <td>929720.584497</td>\n",
       "      <td>5.882146e+06</td>\n",
       "    </tr>\n",
       "    <tr>\n",
       "      <th>2</th>\n",
       "      <td>2023-03-16T16:01:32</td>\n",
       "      <td>2</td>\n",
       "      <td>-2.608302</td>\n",
       "      <td>52.915618</td>\n",
       "      <td>97.887184</td>\n",
       "      <td>929540.918931</td>\n",
       "      <td>5.882031e+06</td>\n",
       "    </tr>\n",
       "    <tr>\n",
       "      <th>3</th>\n",
       "      <td>2023-03-16T16:01:49</td>\n",
       "      <td>3</td>\n",
       "      <td>-2.608213</td>\n",
       "      <td>52.915503</td>\n",
       "      <td>97.993868</td>\n",
       "      <td>929548.073024</td>\n",
       "      <td>5.882019e+06</td>\n",
       "    </tr>\n",
       "    <tr>\n",
       "      <th>4</th>\n",
       "      <td>2023-03-16T16:02:46</td>\n",
       "      <td>4</td>\n",
       "      <td>-2.607865</td>\n",
       "      <td>52.915749</td>\n",
       "      <td>99.280637</td>\n",
       "      <td>929568.942062</td>\n",
       "      <td>5.882049e+06</td>\n",
       "    </tr>\n",
       "  </tbody>\n",
       "</table>\n",
       "</div>"
      ],
      "text/plain": [
       "                  time  name  longitude   latitude   elevation        easting  \\\n",
       "0  2023-03-16T15:58:01     0  -2.605449  52.916499  104.155931  929723.670413   \n",
       "1  2023-03-16T15:58:12     1  -2.605495  52.916499  104.149541  929720.584497   \n",
       "2  2023-03-16T16:01:32     2  -2.608302  52.915618   97.887184  929540.918931   \n",
       "3  2023-03-16T16:01:49     3  -2.608213  52.915503   97.993868  929548.073024   \n",
       "4  2023-03-16T16:02:46     4  -2.607865  52.915749   99.280637  929568.942062   \n",
       "\n",
       "       northing  \n",
       "0  5.882146e+06  \n",
       "1  5.882146e+06  \n",
       "2  5.882031e+06  \n",
       "3  5.882019e+06  \n",
       "4  5.882049e+06  "
      ]
     },
     "execution_count": 19,
     "metadata": {},
     "output_type": "execute_result"
    }
   ],
   "source": [
    "from pyproj import Proj\n",
    "ZoneNo = \"29\" #Manually input, find the zone here: https://www.dmap.co.uk/utmworld.htm\n",
    "myProj = Proj(\"+proj=utm +zone=\"+ZoneNo+\" +north,\\\n",
    " +ellps=WGS84 +datum=WGS84 +units=m +no_defs\") #north for north hemisphere\n",
    "UTMx, UTMy = myProj(df[\"longitude\"], df[\"latitude\"])\n",
    "print(UTMx)\n",
    "df[\"easting\"]=UTMx\n",
    "df[\"northing\"]=UTMy\n",
    "df.head()\n"
   ]
  },
  {
   "cell_type": "code",
   "execution_count": null,
   "metadata": {},
   "outputs": [],
   "source": []
  }
 ],
 "metadata": {
  "kernelspec": {
   "display_name": "psfdas",
   "language": "python",
   "name": "python3"
  },
  "language_info": {
   "codemirror_mode": {
    "name": "ipython",
    "version": 3
   },
   "file_extension": ".py",
   "mimetype": "text/x-python",
   "name": "python",
   "nbconvert_exporter": "python",
   "pygments_lexer": "ipython3",
   "version": "3.9.16"
  },
  "orig_nbformat": 4
 },
 "nbformat": 4,
 "nbformat_minor": 2
}
