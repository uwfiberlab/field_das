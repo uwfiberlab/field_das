{
 "cells": [
  {
   "attachments": {},
   "cell_type": "markdown",
   "metadata": {},
   "source": [
    "# Scripts to use DASCORE/DASDAE to plot das data on the field."
   ]
  },
  {
   "cell_type": "code",
   "execution_count": 3,
   "metadata": {},
   "outputs": [],
   "source": [
    "import dascore as dc\n",
    "import numpy as np\n",
    "import os"
   ]
  },
  {
   "cell_type": "code",
   "execution_count": 2,
   "metadata": {},
   "outputs": [
    {
     "ename": "NameError",
     "evalue": "name 'np' is not defined",
     "output_type": "error",
     "traceback": [
      "\u001b[0;31m---------------------------------------------------------------------------\u001b[0m",
      "\u001b[0;31mNameError\u001b[0m                                 Traceback (most recent call last)",
      "Cell \u001b[0;32mIn[2], line 2\u001b[0m\n\u001b[1;32m      1\u001b[0m fdir \u001b[39m=\u001b[39m \u001b[39m'\u001b[39m\u001b[39m~/Download/*h5\u001b[39m\u001b[39m'\u001b[39m\n\u001b[0;32m----> 2\u001b[0m flist \u001b[39m=\u001b[39m np\u001b[39m.\u001b[39marray(os\u001b[39m.\u001b[39mlistdir(fdir))\n\u001b[1;32m      4\u001b[0m ftime \u001b[39m=\u001b[39m np\u001b[39m.\u001b[39marray([get_tstamp(fname) \u001b[39mfor\u001b[39;00m fname \u001b[39min\u001b[39;00m flist])\n\u001b[1;32m      5\u001b[0m index \u001b[39m=\u001b[39m np\u001b[39m.\u001b[39margsort(np\u001b[39m.\u001b[39marray(ftime)\u001b[39m-\u001b[39mftime[\u001b[39m0\u001b[39m])\n",
      "\u001b[0;31mNameError\u001b[0m: name 'np' is not defined"
     ]
    }
   ],
   "source": [
    "fdir = '~/Download/*h5'\n",
    "flist = np.array(os.listdir(fdir))\n",
    "\n",
    "ftime = np.array([get_tstamp(fname) for fname in flist])\n",
    "index = np.argsort(np.array(ftime)-ftime[0])\n",
    "flist = flist[index]\n",
    "ftime = ftime[index]"
   ]
  }
 ],
 "metadata": {
  "kernelspec": {
   "display_name": "psfdas",
   "language": "python",
   "name": "python3"
  },
  "language_info": {
   "codemirror_mode": {
    "name": "ipython",
    "version": 3
   },
   "file_extension": ".py",
   "mimetype": "text/x-python",
   "name": "python",
   "nbconvert_exporter": "python",
   "pygments_lexer": "ipython3",
   "version": "3.9.16"
  },
  "orig_nbformat": 4
 },
 "nbformat": 4,
 "nbformat_minor": 2
}
