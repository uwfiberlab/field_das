{
 "cells": [
  {
   "attachments": {},
   "cell_type": "markdown",
   "metadata": {},
   "source": [
    "# Acript to make taptest measurements into channel position metadata."
   ]
  },
  {
   "cell_type": "code",
   "execution_count": 1,
   "metadata": {},
   "outputs": [],
   "source": [
    "%matplotlib inline\n",
    "import os\n",
    "import h5py\n",
    "import numpy as np\n",
    "import matplotlib.pyplot as plt\n",
    "from scipy.signal import detrend\n",
    "from obspy.signal.filter import bandpass as bp\n",
    "from obspy import UTCDateTime\n",
    "import dascore as dc\n",
    "import pyproj"
   ]
  },
  {
   "attachments": {},
   "cell_type": "markdown",
   "metadata": {},
   "source": [
    "## get file information"
   ]
  },
  {
   "cell_type": "code",
   "execution_count": null,
   "metadata": {},
   "outputs": [],
   "source": [
    "def get_tstamp(fname):\n",
    "    datestr = fname.split('_')[1].split('-')\n",
    "    y = int(datestr[0])\n",
    "    m = int(datestr[1])\n",
    "    d = int(datestr[2])\n",
    "    timestr = fname.split('_')[2].split('.')\n",
    "    H = int(timestr[0])\n",
    "    M = int(timestr[1])\n",
    "    S = int(timestr[2])\n",
    "    return UTCDateTime('%04d-%02d-%02dT%02d:%02d:%02d' % (y,m,d,H,M,S))\n",
    "\n",
    "fdir = '/Volumes/PeatDAS/harper_test_data'\n",
    "flist = np.array(os.listdir(fdir))\n",
    "ftime = np.array([get_tstamp(fname) for fname in flist])\n",
    "index = np.argsort(np.array(ftime)-ftime[0])\n",
    "flist = flist[index]\n",
    "ftime = ftime[index]"
   ]
  },
  {
   "attachments": {},
   "cell_type": "markdown",
   "metadata": {},
   "source": [
    "## Get acquisition parameters"
   ]
  },
  {
   "cell_type": "code",
   "execution_count": null,
   "metadata": {},
   "outputs": [],
   "source": [
    "fname = flist[0]\n",
    "with h5py.File(os.path.join(fdir,fname),'r') as fp:\n",
    "    GL = fp['Acquisition'].attrs['GaugeLength']\n",
    "    dx = fp['Acquisition'].attrs['SpatialSamplingInterval']\n",
    "    fs = fp['Acquisition']['Raw[0]'].attrs['OutputDataRate']\n",
    "    nx = fp['Acquisition']['Raw[0]'].attrs['NumberOfLoci']\n",
    "    ns = len(fp['Acquisition']['Raw[0]']['RawDataTime'][:])\n",
    "    #data = fp['Acquisition']['Raw[0]']['RawData'][:]\n",
    "    print(fname)\n",
    "    print('Gauge length (m):',GL)\n",
    "    print('Channel spacing (m):',dx)\n",
    "    print('Sampling rate (Hz):',fs)\n",
    "    print('Num channels:',nx)\n",
    "    print('Num samples:',ns)"
   ]
  }
 ],
 "metadata": {
  "kernelspec": {
   "display_name": "psfdas",
   "language": "python",
   "name": "python3"
  },
  "language_info": {
   "codemirror_mode": {
    "name": "ipython",
    "version": 3
   },
   "file_extension": ".py",
   "mimetype": "text/x-python",
   "name": "python",
   "nbconvert_exporter": "python",
   "pygments_lexer": "ipython3",
   "version": "3.9.16"
  },
  "orig_nbformat": 4
 },
 "nbformat": 4,
 "nbformat_minor": 2
}
